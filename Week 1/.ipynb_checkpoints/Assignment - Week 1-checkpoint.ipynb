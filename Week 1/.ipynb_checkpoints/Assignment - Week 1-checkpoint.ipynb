{
 "cells": [
  {
   "cell_type": "markdown",
   "id": "de326b41",
   "metadata": {},
   "source": [
    "# Assignment - Week 1\n",
    "## Predicting Bitcoin Prices with Least Squares Method\n",
    "Sebastian Molina Diaz - [smolinad@unal.edu.co](mailto:smolinad@unal.edu.co)  \n",
    "Universidad Nacional de Colombia"
   ]
  },
  {
   "cell_type": "markdown",
   "id": "a3e922e2",
   "metadata": {},
   "source": [
    "- Related with the nature of the data, which conditions should meet matrices  𝐴  and  𝑏  to be solvable from the least squares perspective."
   ]
  },
  {
   "cell_type": "markdown",
   "id": "f00c2b78",
   "metadata": {},
   "source": [
    "Firstly, it is clear that the system $Ax=b$ should be inconsistent. Otherwise, the solution to the least squares method is exactly the canonical solution to the system of equations. For this reason, $b$ cannot be a linear combination of the column vectors of $A$. Now, related to the data, as we proved in class, the solutions by the least square method for $Ax=b$ is the solution set for $A^TAx=A^Tb$, or equivalently, $A^TAx=0$. As $A^TA$ is a square matrix, $Ax=b$ has a unique solution if and only if the column vectors of $A$ are linearly independent, by the [Invertible Matrix Theorem](https://mathworld.wolfram.com/InvertibleMatrixTheorem.html). "
   ]
  },
  {
   "cell_type": "markdown",
   "id": "78ca8dae",
   "metadata": {},
   "source": [
    "- Use a least squares for non-linear models adjust the bitcoin price and perform a prediction using the model to determine the future daily price a week ahead, compare with the actual values."
   ]
  },
  {
   "cell_type": "markdown",
   "id": "5ab4b233",
   "metadata": {},
   "source": [
    "### Importing Packages"
   ]
  },
  {
   "cell_type": "code",
   "execution_count": null,
   "id": "3eb67162",
   "metadata": {
    "scrolled": false
   },
   "outputs": [],
   "source": [
    "using Pkg\n",
    "Pkg.add(\"AlphaVantage\")\n",
    "Pkg.add(\"DataFrames\")\n",
    "Pkg.add(\"Plots\")\n",
    "Pkg.add(\"Dates\")\n",
    "Pkg.add(\"SpecialMatrices\")\n",
    "Pkg.add(\"Polynomials\")"
   ]
  },
  {
   "cell_type": "markdown",
   "id": "d2a93590",
   "metadata": {},
   "source": [
    "### Importing Bitcoin Prices"
   ]
  },
  {
   "cell_type": "markdown",
   "id": "ee281de0",
   "metadata": {},
   "source": [
    "Using the AlphaVantage API, stock and markets data can be easily imported into the notebook. AlphaVantage requires a free API key that can be requested **[here](https://www.alphavantage.co/support/#api-key)**. `ALPHAVANTAGE_KEY` was saved as an environment variable and called with the command `ENV[]`."
   ]
  },
  {
   "cell_type": "code",
   "execution_count": null,
   "id": "407d2ccb",
   "metadata": {},
   "outputs": [],
   "source": [
    "using AlphaVantage\n",
    "client = AlphaVantage.GLOBAL[]\n",
    "client.key = ENV[\"ALPHAVANTAGE_KEY\"];"
   ]
  },
  {
   "cell_type": "code",
   "execution_count": null,
   "id": "3f692b04",
   "metadata": {
    "scrolled": false
   },
   "outputs": [],
   "source": [
    "using DataFrames\n",
    "using Plots\n",
    "using Dates\n",
    "\n",
    "gr(size=(800,470))\n",
    "\n",
    "btcRaw = digital_currency_daily(\"BTC\", \"USD\", datatype=\"csv\");\n",
    "btc = DataFrame(btcRaw[1], :auto);\n",
    "btc = rename(btc, Symbol.(vcat(btcRaw[2]...)), makeunique=true);\n",
    "btc.Date = Date.(btc.timestamp);\n",
    "btc.Price = Float64.(btc[!, Symbol(\"close (USD)_1\")]);\n",
    "\n",
    "btcToPredict = first(btc[:,[:Date, :Price]], 27)\n",
    "btcToPredict = last(btcToPredict[:,[:Date, :Price]], 20)\n",
    "\n",
    "plot(btcToPredict.Date, btcToPredict.Price, label=\"Price\", title = \"Bitcoin\")"
   ]
  },
  {
   "cell_type": "markdown",
   "id": "258695ef",
   "metadata": {},
   "source": [
    "### Least Squares Method"
   ]
  },
  {
   "cell_type": "code",
   "execution_count": null,
   "id": "3e2e8a5f",
   "metadata": {},
   "outputs": [],
   "source": [
    "days = [i for i in 1:length(btcToPredict.Price)]\n",
    "col1 = sin.(days)\n",
    "col2 = days\n",
    "\n",
    "matrix = [col1 col2]\n",
    "matrixT = transpose(matrix)\n",
    "\n",
    "A = matrixT*matrix\n",
    "b = matrixT*btcToPredict.Price\n",
    "p = A\\b "
   ]
  },
  {
   "cell_type": "code",
   "execution_count": null,
   "id": "510609e9",
   "metadata": {
    "scrolled": true
   },
   "outputs": [],
   "source": [
    "f(x) = p[1]*sin(x) + p[2]*x\n",
    "\n",
    "prediction = Vector{Float64}()\n",
    "for i in 1:7 \n",
    "    append!(prediction, f(length(btcToPredict.Price)+i))\n",
    "end\n",
    "\n",
    "prediction"
   ]
  },
  {
   "cell_type": "markdown",
   "id": "c0dc717b",
   "metadata": {},
   "source": [
    "### Error Analysis"
   ]
  },
  {
   "cell_type": "code",
   "execution_count": null,
   "id": "4603639b",
   "metadata": {},
   "outputs": [],
   "source": [
    "first(btc.Price, 7)"
   ]
  },
  {
   "cell_type": "code",
   "execution_count": null,
   "id": "c2f1e284",
   "metadata": {},
   "outputs": [],
   "source": [
    "absErr = abs.(first(btc.Price, 7) - prediction)"
   ]
  },
  {
   "cell_type": "code",
   "execution_count": null,
   "id": "a9ec6f02",
   "metadata": {},
   "outputs": [],
   "source": [
    "(absErr./first(btc.Price, 7))"
   ]
  },
  {
   "cell_type": "code",
   "execution_count": null,
   "id": "3fc62b48",
   "metadata": {},
   "outputs": [],
   "source": [
    "using DataFrames\n",
    "using Plots\n",
    "using Dates\n",
    "\n",
    "gr(size=(800,470))\n",
    "\n",
    "silverRaw = currency_exchange_rate(\"XAG\", \"USD\")\n",
    "println(silverRaw)"
   ]
  }
 ],
 "metadata": {
  "kernelspec": {
   "display_name": "Julia 1.7.2",
   "language": "julia",
   "name": "julia-1.7"
  },
  "language_info": {
   "file_extension": ".jl",
   "mimetype": "application/julia",
   "name": "julia",
   "version": "1.7.2"
  }
 },
 "nbformat": 4,
 "nbformat_minor": 5
}
