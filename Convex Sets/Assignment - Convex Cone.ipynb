{
 "cells": [
  {
   "cell_type": "markdown",
   "id": "5f606bec",
   "metadata": {},
   "source": [
    "# Assingment - Week 7\n",
    "## Checking if a point in $\\mathbb{R}^n$ is in the convex cone of a set of points  \n",
    "Sebastian Leonardo Molina Diaz - [smolinad@unal.edu.co](smolinad@unal.edu.co)  \n",
    "Universidad Nacional de Colombia"
   ]
  },
  {
   "cell_type": "markdown",
   "id": "42694b8f",
   "metadata": {},
   "source": [
    "### Exercise:"
   ]
  },
  {
   "cell_type": "markdown",
   "id": "906cc548",
   "metadata": {},
   "source": [
    "Given a set of points $C=\\{x_1, \\dots, x_k\\} \\subseteq \\mathbb{R}_+^n$, check if a point $b \\in \\mathbb{R}_+^n$ is in the convex cone of $C$."
   ]
  },
  {
   "cell_type": "markdown",
   "id": "467e5bec",
   "metadata": {},
   "source": [
    "#### Solution."
   ]
  },
  {
   "cell_type": "markdown",
   "id": "267e9a6d",
   "metadata": {},
   "source": [
    "For example, we want to check if the point $(0,0,5) \\in \\mathbb{R}^2$ is in the convex $\\operatorname{cone} C$, with $C =\\{(3,1,3), (1,0,1), (0,1,1)\\}$. Notice that $b \\in \\operatorname{cone} C$ if and only if $Ax=b$ has a solution and $x \\succeq 0$, so $b$ is in the column space of the matrix $A$ defined by making every point in $C$ a column in $A$. In this case, $b$ is a conic combination of the column vectors of $A$. Also, we can use the projection matrix to check if $b$ is in the convex cone."
   ]
  },
  {
   "cell_type": "code",
   "execution_count": 58,
   "id": "d2289811",
   "metadata": {},
   "outputs": [
    {
     "name": "stderr",
     "output_type": "stream",
     "text": [
      "\n",
      "(process:8408): GLib-GIO-WARNING **: 20:10:08.406: Unexpectedly, UWP app `KDEe.V.Okular_22.400.995.0_x64__7vt06qxq7ptv8' (AUMId `KDEe.V.Okular_7vt06qxq7ptv8!KDEe.V.Okular') supports 5 extensions but has no verbs\n"
     ]
    },
    {
     "data": {
      "text/plain": [
       "check_in_cone (generic function with 1 method)"
      ]
     },
     "execution_count": 58,
     "metadata": {},
     "output_type": "execute_result"
    }
   ],
   "source": [
    "using LinearAlgebra\n",
    "using Plots\n",
    "\n",
    "function check_in_cone(points, x)\n",
    "    matrix_t = reduce(vcat,transpose.(points))\n",
    "    matrix = transpose(matrix_t)\n",
    "    A = (matrix_t)*(matrix)\n",
    "    b = matrix_t*x\n",
    "\n",
    "    if det(A) == 0\n",
    "        print(x, \" is NOT in the convex cone. (i)\")\n",
    "    elseif det(A) != 0\n",
    "        T = matrix*inv(A)*matrix_t\n",
    "    end\n",
    "    \n",
    "    if T*x == x\n",
    "        print(x, \" is in the convex cone. (i)\")\n",
    "    end\n",
    "    \n",
    "    s=inv(A)*b\n",
    "    if all(>=(0), s)\n",
    "        print(x, \" is in the convex cone. (ii)\")\n",
    "    else\n",
    "        print(x, \" is NOT in the convex cone. (ii)\")\n",
    "    end\n",
    "    \n",
    "end"
   ]
  },
  {
   "cell_type": "code",
   "execution_count": 59,
   "id": "32956424",
   "metadata": {},
   "outputs": [
    {
     "name": "stdout",
     "output_type": "stream",
     "text": [
      "[0, 0, 5] is NOT in the convex cone. (ii)"
     ]
    }
   ],
   "source": [
    "points = [[3, 1, 3], [1, 0, 1], [0, 1, 1]]\n",
    "x = [0, 0, 5]\n",
    "check_in_cone(points, x)"
   ]
  },
  {
   "cell_type": "code",
   "execution_count": 61,
   "id": "b2234974",
   "metadata": {},
   "outputs": [
    {
     "data": {
      "image/svg+xml": [
       "<?xml version=\"1.0\" encoding=\"utf-8\"?>\n",
       "<svg xmlns=\"http://www.w3.org/2000/svg\" xmlns:xlink=\"http://www.w3.org/1999/xlink\" width=\"600\" height=\"400\" viewBox=\"0 0 2400 1600\">\n",
       "<defs>\n",
       "  <clipPath id=\"clip950\">\n",
       "    <rect x=\"0\" y=\"0\" width=\"2400\" height=\"1600\"/>\n",
       "  </clipPath>\n",
       "</defs>\n",
       "<path clip-path=\"url(#clip950)\" d=\"\n",
       "M0 1600 L2400 1600 L2400 0 L0 0  Z\n",
       "  \" fill=\"#ffffff\" fill-rule=\"evenodd\" fill-opacity=\"1\"/>\n",
       "<defs>\n",
       "  <clipPath id=\"clip951\">\n",
       "    <rect x=\"480\" y=\"0\" width=\"1681\" height=\"1600\"/>\n",
       "  </clipPath>\n",
       "</defs>\n",
       "<defs>\n",
       "  <clipPath id=\"clip952\">\n",
       "    <rect x=\"186\" y=\"47\" width=\"2167\" height=\"1440\"/>\n",
       "  </clipPath>\n",
       "</defs>\n",
       "<path clip-path=\"url(#clip952)\" d=\"\n",
       "M186.274 1401.43 L186.274 302.298 L979.261 47.2441 L2352.76 132.262 L2352.76 1231.39 L1559.77 1486.45 L186.274 1401.43  Z\n",
       "  \" fill=\"#ffffff\" fill-rule=\"evenodd\" fill-opacity=\"1\"/>\n",
       "<polyline clip-path=\"url(#clip952)\" style=\"stroke:#000000; stroke-linecap:butt; stroke-linejoin:round; stroke-width:2; stroke-opacity:0.1; fill:none\" points=\"\n",
       "  225.146,1403.84 1018.13,1148.78 \n",
       "  \"/>\n",
       "<polyline clip-path=\"url(#clip952)\" style=\"stroke:#000000; stroke-linecap:butt; stroke-linejoin:round; stroke-width:2; stroke-opacity:0.1; fill:none\" points=\"\n",
       "  1018.13,1148.78 1018.13,49.6503 \n",
       "  \"/>\n",
       "<polyline clip-path=\"url(#clip952)\" style=\"stroke:#000000; stroke-linecap:butt; stroke-linejoin:round; stroke-width:2; stroke-opacity:0.1; fill:none\" points=\"\n",
       "  549.084,1423.89 1342.07,1168.83 \n",
       "  \"/>\n",
       "<polyline clip-path=\"url(#clip952)\" style=\"stroke:#000000; stroke-linecap:butt; stroke-linejoin:round; stroke-width:2; stroke-opacity:0.1; fill:none\" points=\"\n",
       "  1342.07,1168.83 1342.07,69.7017 \n",
       "  \"/>\n",
       "<polyline clip-path=\"url(#clip952)\" style=\"stroke:#000000; stroke-linecap:butt; stroke-linejoin:round; stroke-width:2; stroke-opacity:0.1; fill:none\" points=\"\n",
       "  873.021,1443.94 1666.01,1188.88 \n",
       "  \"/>\n",
       "<polyline clip-path=\"url(#clip952)\" style=\"stroke:#000000; stroke-linecap:butt; stroke-linejoin:round; stroke-width:2; stroke-opacity:0.1; fill:none\" points=\"\n",
       "  1666.01,1188.88 1666.01,89.7531 \n",
       "  \"/>\n",
       "<polyline clip-path=\"url(#clip952)\" style=\"stroke:#000000; stroke-linecap:butt; stroke-linejoin:round; stroke-width:2; stroke-opacity:0.1; fill:none\" points=\"\n",
       "  1196.96,1463.99 1989.95,1208.94 \n",
       "  \"/>\n",
       "<polyline clip-path=\"url(#clip952)\" style=\"stroke:#000000; stroke-linecap:butt; stroke-linejoin:round; stroke-width:2; stroke-opacity:0.1; fill:none\" points=\"\n",
       "  1989.95,1208.94 1989.95,109.805 \n",
       "  \"/>\n",
       "<polyline clip-path=\"url(#clip952)\" style=\"stroke:#000000; stroke-linecap:butt; stroke-linejoin:round; stroke-width:2; stroke-opacity:0.1; fill:none\" points=\"\n",
       "  1520.9,1484.04 2313.88,1228.99 \n",
       "  \"/>\n",
       "<polyline clip-path=\"url(#clip952)\" style=\"stroke:#000000; stroke-linecap:butt; stroke-linejoin:round; stroke-width:2; stroke-opacity:0.1; fill:none\" points=\"\n",
       "  2313.88,1228.99 2313.88,129.856 \n",
       "  \"/>\n",
       "<polyline clip-path=\"url(#clip950)\" style=\"stroke:#000000; stroke-linecap:butt; stroke-linejoin:round; stroke-width:4; stroke-opacity:1; fill:none\" points=\"\n",
       "  186.274,1401.43 1559.77,1486.45 \n",
       "  \"/>\n",
       "<polyline clip-path=\"url(#clip950)\" style=\"stroke:#000000; stroke-linecap:butt; stroke-linejoin:round; stroke-width:4; stroke-opacity:1; fill:none\" points=\"\n",
       "  225.146,1403.84 234.662,1400.78 \n",
       "  \"/>\n",
       "<polyline clip-path=\"url(#clip950)\" style=\"stroke:#000000; stroke-linecap:butt; stroke-linejoin:round; stroke-width:4; stroke-opacity:1; fill:none\" points=\"\n",
       "  549.084,1423.89 558.6,1420.83 \n",
       "  \"/>\n",
       "<polyline clip-path=\"url(#clip950)\" style=\"stroke:#000000; stroke-linecap:butt; stroke-linejoin:round; stroke-width:4; stroke-opacity:1; fill:none\" points=\"\n",
       "  873.021,1443.94 882.537,1440.88 \n",
       "  \"/>\n",
       "<polyline clip-path=\"url(#clip950)\" style=\"stroke:#000000; stroke-linecap:butt; stroke-linejoin:round; stroke-width:4; stroke-opacity:1; fill:none\" points=\"\n",
       "  1196.96,1463.99 1206.47,1460.93 \n",
       "  \"/>\n",
       "<polyline clip-path=\"url(#clip950)\" style=\"stroke:#000000; stroke-linecap:butt; stroke-linejoin:round; stroke-width:4; stroke-opacity:1; fill:none\" points=\"\n",
       "  1520.9,1484.04 1530.41,1480.98 \n",
       "  \"/>\n",
       "<path clip-path=\"url(#clip950)\" d=\"M157.002 1445.93 L164.641 1445.93 L164.641 1419.56 L156.331 1421.23 L156.331 1416.97 L164.594 1415.3 L169.27 1415.3 L169.27 1445.93 L176.909 1445.93 L176.909 1449.86 L157.002 1449.86 L157.002 1445.93 Z\" fill=\"#000000\" fill-rule=\"evenodd\" fill-opacity=\"1\" /><path clip-path=\"url(#clip950)\" d=\"M186.354 1443.98 L191.238 1443.98 L191.238 1449.86 L186.354 1449.86 L186.354 1443.98 Z\" fill=\"#000000\" fill-rule=\"evenodd\" fill-opacity=\"1\" /><path clip-path=\"url(#clip950)\" d=\"M211.423 1418.38 Q207.812 1418.38 205.983 1421.94 Q204.177 1425.49 204.177 1432.62 Q204.177 1439.72 205.983 1443.29 Q207.812 1446.83 211.423 1446.83 Q215.057 1446.83 216.863 1443.29 Q218.691 1439.72 218.691 1432.62 Q218.691 1425.49 216.863 1421.94 Q215.057 1418.38 211.423 1418.38 M211.423 1414.68 Q217.233 1414.68 220.289 1419.28 Q223.367 1423.87 223.367 1432.62 Q223.367 1441.34 220.289 1445.95 Q217.233 1450.53 211.423 1450.53 Q205.613 1450.53 202.534 1445.95 Q199.478 1441.34 199.478 1432.62 Q199.478 1423.87 202.534 1419.28 Q205.613 1414.68 211.423 1414.68 Z\" fill=\"#000000\" fill-rule=\"evenodd\" fill-opacity=\"1\" /><path clip-path=\"url(#clip950)\" d=\"M481.935 1465.98 L489.573 1465.98 L489.573 1439.61 L481.263 1441.28 L481.263 1437.02 L489.527 1435.35 L494.203 1435.35 L494.203 1465.98 L501.842 1465.98 L501.842 1469.91 L481.935 1469.91 L481.935 1465.98 Z\" fill=\"#000000\" fill-rule=\"evenodd\" fill-opacity=\"1\" /><path clip-path=\"url(#clip950)\" d=\"M511.286 1464.03 L516.17 1464.03 L516.17 1469.91 L511.286 1469.91 L511.286 1464.03 Z\" fill=\"#000000\" fill-rule=\"evenodd\" fill-opacity=\"1\" /><path clip-path=\"url(#clip950)\" d=\"M526.402 1435.35 L544.758 1435.35 L544.758 1439.29 L530.684 1439.29 L530.684 1447.76 Q531.703 1447.41 532.721 1447.25 Q533.74 1447.07 534.758 1447.07 Q540.545 1447.07 543.925 1450.24 Q547.305 1453.41 547.305 1458.82 Q547.305 1464.4 543.832 1467.5 Q540.36 1470.58 534.041 1470.58 Q531.865 1470.58 529.596 1470.21 Q527.351 1469.84 524.944 1469.1 L524.944 1464.4 Q527.027 1465.54 529.249 1466.09 Q531.471 1466.65 533.948 1466.65 Q537.953 1466.65 540.291 1464.54 Q542.629 1462.44 542.629 1458.82 Q542.629 1455.21 540.291 1453.11 Q537.953 1451 533.948 1451 Q532.073 1451 530.198 1451.42 Q528.346 1451.83 526.402 1452.71 L526.402 1435.35 Z\" fill=\"#000000\" fill-rule=\"evenodd\" fill-opacity=\"1\" /><path clip-path=\"url(#clip950)\" d=\"M808.094 1486.03 L824.414 1486.03 L824.414 1489.96 L802.469 1489.96 L802.469 1486.03 Q805.131 1483.27 809.715 1478.64 Q814.321 1473.99 815.502 1472.65 Q817.747 1470.13 818.626 1468.39 Q819.529 1466.63 819.529 1464.94 Q819.529 1462.19 817.585 1460.45 Q815.664 1458.71 812.562 1458.71 Q810.363 1458.71 807.909 1459.48 Q805.478 1460.24 802.701 1461.79 L802.701 1457.07 Q805.525 1455.94 807.978 1455.36 Q810.432 1454.78 812.469 1454.78 Q817.839 1454.78 821.034 1457.46 Q824.228 1460.15 824.228 1464.64 Q824.228 1466.77 823.418 1468.69 Q822.631 1470.59 820.525 1473.18 Q819.946 1473.85 816.844 1477.07 Q813.742 1480.26 808.094 1486.03 Z\" fill=\"#000000\" fill-rule=\"evenodd\" fill-opacity=\"1\" /><path clip-path=\"url(#clip950)\" d=\"M834.228 1484.08 L839.112 1484.08 L839.112 1489.96 L834.228 1489.96 L834.228 1484.08 Z\" fill=\"#000000\" fill-rule=\"evenodd\" fill-opacity=\"1\" /><path clip-path=\"url(#clip950)\" d=\"M859.298 1458.48 Q855.686 1458.48 853.858 1462.05 Q852.052 1465.59 852.052 1472.72 Q852.052 1479.82 853.858 1483.39 Q855.686 1486.93 859.298 1486.93 Q862.932 1486.93 864.737 1483.39 Q866.566 1479.82 866.566 1472.72 Q866.566 1465.59 864.737 1462.05 Q862.932 1458.48 859.298 1458.48 M859.298 1454.78 Q865.108 1454.78 868.163 1459.39 Q871.242 1463.97 871.242 1472.72 Q871.242 1481.45 868.163 1486.05 Q865.108 1490.64 859.298 1490.64 Q853.487 1490.64 850.409 1486.05 Q847.353 1481.45 847.353 1472.72 Q847.353 1463.97 850.409 1459.39 Q853.487 1454.78 859.298 1454.78 Z\" fill=\"#000000\" fill-rule=\"evenodd\" fill-opacity=\"1\" /><path clip-path=\"url(#clip950)\" d=\"M1133.03 1506.08 L1149.35 1506.08 L1149.35 1510.02 L1127.4 1510.02 L1127.4 1506.08 Q1130.06 1503.33 1134.65 1498.7 Q1139.25 1494.04 1140.43 1492.7 Q1142.68 1490.18 1143.56 1488.44 Q1144.46 1486.68 1144.46 1484.99 Q1144.46 1482.24 1142.52 1480.5 Q1140.6 1478.77 1137.49 1478.77 Q1135.3 1478.77 1132.84 1479.53 Q1130.41 1480.29 1127.63 1481.84 L1127.63 1477.12 Q1130.46 1475.99 1132.91 1475.41 Q1135.36 1474.83 1137.4 1474.83 Q1142.77 1474.83 1145.97 1477.52 Q1149.16 1480.2 1149.16 1484.69 Q1149.16 1486.82 1148.35 1488.74 Q1147.56 1490.64 1145.46 1493.23 Q1144.88 1493.9 1141.78 1497.12 Q1138.68 1500.32 1133.03 1506.08 Z\" fill=\"#000000\" fill-rule=\"evenodd\" fill-opacity=\"1\" /><path clip-path=\"url(#clip950)\" d=\"M1159.16 1504.14 L1164.05 1504.14 L1164.05 1510.02 L1159.16 1510.02 L1159.16 1504.14 Z\" fill=\"#000000\" fill-rule=\"evenodd\" fill-opacity=\"1\" /><path clip-path=\"url(#clip950)\" d=\"M1174.28 1475.46 L1192.63 1475.46 L1192.63 1479.39 L1178.56 1479.39 L1178.56 1487.86 Q1179.58 1487.52 1180.6 1487.35 Q1181.61 1487.17 1182.63 1487.17 Q1188.42 1487.17 1191.8 1490.34 Q1195.18 1493.51 1195.18 1498.93 Q1195.18 1504.51 1191.71 1507.61 Q1188.23 1510.69 1181.92 1510.69 Q1179.74 1510.69 1177.47 1510.32 Q1175.23 1509.95 1172.82 1509.21 L1172.82 1504.51 Q1174.9 1505.64 1177.12 1506.2 Q1179.35 1506.75 1181.82 1506.75 Q1185.83 1506.75 1188.17 1504.64 Q1190.5 1502.54 1190.5 1498.93 Q1190.5 1495.32 1188.17 1493.21 Q1185.83 1491.1 1181.82 1491.1 Q1179.95 1491.1 1178.07 1491.52 Q1176.22 1491.94 1174.28 1492.82 L1174.28 1475.46 Z\" fill=\"#000000\" fill-rule=\"evenodd\" fill-opacity=\"1\" /><path clip-path=\"url(#clip950)\" d=\"M1466.11 1511.43 Q1469.46 1512.15 1471.34 1514.42 Q1473.24 1516.69 1473.24 1520.02 Q1473.24 1525.14 1469.72 1527.94 Q1466.2 1530.74 1459.72 1530.74 Q1457.54 1530.74 1455.23 1530.3 Q1452.94 1529.88 1450.48 1529.03 L1450.48 1524.51 Q1452.43 1525.65 1454.74 1526.22 Q1457.06 1526.8 1459.58 1526.8 Q1463.98 1526.8 1466.27 1525.07 Q1468.58 1523.33 1468.58 1520.02 Q1468.58 1516.96 1466.43 1515.25 Q1464.3 1513.52 1460.48 1513.52 L1456.46 1513.52 L1456.46 1509.67 L1460.67 1509.67 Q1464.12 1509.67 1465.95 1508.31 Q1467.77 1506.92 1467.77 1504.33 Q1467.77 1501.66 1465.88 1500.25 Q1464 1498.82 1460.48 1498.82 Q1458.56 1498.82 1456.36 1499.23 Q1454.16 1499.65 1451.52 1500.53 L1451.52 1496.36 Q1454.19 1495.62 1456.5 1495.25 Q1458.84 1494.88 1460.9 1494.88 Q1466.22 1494.88 1469.33 1497.31 Q1472.43 1499.72 1472.43 1503.84 Q1472.43 1506.71 1470.78 1508.7 Q1469.14 1510.67 1466.11 1511.43 Z\" fill=\"#000000\" fill-rule=\"evenodd\" fill-opacity=\"1\" /><path clip-path=\"url(#clip950)\" d=\"M1482.1 1524.19 L1486.99 1524.19 L1486.99 1530.07 L1482.1 1530.07 L1482.1 1524.19 Z\" fill=\"#000000\" fill-rule=\"evenodd\" fill-opacity=\"1\" /><path clip-path=\"url(#clip950)\" d=\"M1507.17 1498.59 Q1503.56 1498.59 1501.73 1502.15 Q1499.93 1505.69 1499.93 1512.82 Q1499.93 1519.93 1501.73 1523.49 Q1503.56 1527.03 1507.17 1527.03 Q1510.81 1527.03 1512.61 1523.49 Q1514.44 1519.93 1514.44 1512.82 Q1514.44 1505.69 1512.61 1502.15 Q1510.81 1498.59 1507.17 1498.59 M1507.17 1494.88 Q1512.98 1494.88 1516.04 1499.49 Q1519.12 1504.07 1519.12 1512.82 Q1519.12 1521.55 1516.04 1526.15 Q1512.98 1530.74 1507.17 1530.74 Q1501.36 1530.74 1498.28 1526.15 Q1495.23 1521.55 1495.23 1512.82 Q1495.23 1504.07 1498.28 1499.49 Q1501.36 1494.88 1507.17 1494.88 Z\" fill=\"#000000\" fill-rule=\"evenodd\" fill-opacity=\"1\" /><polyline clip-path=\"url(#clip952)\" style=\"stroke:#000000; stroke-linecap:butt; stroke-linejoin:round; stroke-width:2; stroke-opacity:0.1; fill:none\" points=\"\n",
       "  1582.21,1479.23 208.717,1394.21 \n",
       "  \"/>\n",
       "<polyline clip-path=\"url(#clip952)\" style=\"stroke:#000000; stroke-linecap:butt; stroke-linejoin:round; stroke-width:2; stroke-opacity:0.1; fill:none\" points=\"\n",
       "  208.717,1394.21 208.717,295.08 \n",
       "  \"/>\n",
       "<polyline clip-path=\"url(#clip952)\" style=\"stroke:#000000; stroke-linecap:butt; stroke-linejoin:round; stroke-width:2; stroke-opacity:0.1; fill:none\" points=\"\n",
       "  1769.24,1419.08 395.742,1334.06 \n",
       "  \"/>\n",
       "<polyline clip-path=\"url(#clip952)\" style=\"stroke:#000000; stroke-linecap:butt; stroke-linejoin:round; stroke-width:2; stroke-opacity:0.1; fill:none\" points=\"\n",
       "  395.742,1334.06 395.742,234.926 \n",
       "  \"/>\n",
       "<polyline clip-path=\"url(#clip952)\" style=\"stroke:#000000; stroke-linecap:butt; stroke-linejoin:round; stroke-width:2; stroke-opacity:0.1; fill:none\" points=\"\n",
       "  1956.26,1358.92 582.768,1273.9 \n",
       "  \"/>\n",
       "<polyline clip-path=\"url(#clip952)\" style=\"stroke:#000000; stroke-linecap:butt; stroke-linejoin:round; stroke-width:2; stroke-opacity:0.1; fill:none\" points=\"\n",
       "  582.768,1273.9 582.768,174.771 \n",
       "  \"/>\n",
       "<polyline clip-path=\"url(#clip952)\" style=\"stroke:#000000; stroke-linecap:butt; stroke-linejoin:round; stroke-width:2; stroke-opacity:0.1; fill:none\" points=\"\n",
       "  2143.29,1298.77 769.793,1213.75 \n",
       "  \"/>\n",
       "<polyline clip-path=\"url(#clip952)\" style=\"stroke:#000000; stroke-linecap:butt; stroke-linejoin:round; stroke-width:2; stroke-opacity:0.1; fill:none\" points=\"\n",
       "  769.793,1213.75 769.793,114.617 \n",
       "  \"/>\n",
       "<polyline clip-path=\"url(#clip952)\" style=\"stroke:#000000; stroke-linecap:butt; stroke-linejoin:round; stroke-width:2; stroke-opacity:0.1; fill:none\" points=\"\n",
       "  2330.31,1238.61 956.818,1153.59 \n",
       "  \"/>\n",
       "<polyline clip-path=\"url(#clip952)\" style=\"stroke:#000000; stroke-linecap:butt; stroke-linejoin:round; stroke-width:2; stroke-opacity:0.1; fill:none\" points=\"\n",
       "  956.818,1153.59 956.818,54.4626 \n",
       "  \"/>\n",
       "<polyline clip-path=\"url(#clip950)\" style=\"stroke:#000000; stroke-linecap:butt; stroke-linejoin:round; stroke-width:4; stroke-opacity:1; fill:none\" points=\"\n",
       "  1559.77,1486.45 2352.76,1231.39 \n",
       "  \"/>\n",
       "<polyline clip-path=\"url(#clip950)\" style=\"stroke:#000000; stroke-linecap:butt; stroke-linejoin:round; stroke-width:4; stroke-opacity:1; fill:none\" points=\"\n",
       "  1582.21,1479.23 1565.73,1478.21 \n",
       "  \"/>\n",
       "<polyline clip-path=\"url(#clip950)\" style=\"stroke:#000000; stroke-linecap:butt; stroke-linejoin:round; stroke-width:4; stroke-opacity:1; fill:none\" points=\"\n",
       "  1769.24,1419.08 1752.75,1418.05 \n",
       "  \"/>\n",
       "<polyline clip-path=\"url(#clip950)\" style=\"stroke:#000000; stroke-linecap:butt; stroke-linejoin:round; stroke-width:4; stroke-opacity:1; fill:none\" points=\"\n",
       "  1956.26,1358.92 1939.78,1357.9 \n",
       "  \"/>\n",
       "<polyline clip-path=\"url(#clip950)\" style=\"stroke:#000000; stroke-linecap:butt; stroke-linejoin:round; stroke-width:4; stroke-opacity:1; fill:none\" points=\"\n",
       "  2143.29,1298.77 2126.81,1297.75 \n",
       "  \"/>\n",
       "<polyline clip-path=\"url(#clip950)\" style=\"stroke:#000000; stroke-linecap:butt; stroke-linejoin:round; stroke-width:4; stroke-opacity:1; fill:none\" points=\"\n",
       "  2330.31,1238.61 2313.83,1237.59 \n",
       "  \"/>\n",
       "<path clip-path=\"url(#clip950)\" d=\"M1602.97 1492.44 Q1599.36 1492.44 1597.53 1496.01 Q1595.73 1499.55 1595.73 1506.68 Q1595.73 1513.79 1597.53 1517.35 Q1599.36 1520.89 1602.97 1520.89 Q1606.61 1520.89 1608.41 1517.35 Q1610.24 1513.79 1610.24 1506.68 Q1610.24 1499.55 1608.41 1496.01 Q1606.61 1492.44 1602.97 1492.44 M1602.97 1488.74 Q1608.78 1488.74 1611.84 1493.35 Q1614.92 1497.93 1614.92 1506.68 Q1614.92 1515.41 1611.84 1520.01 Q1608.78 1524.6 1602.97 1524.6 Q1597.16 1524.6 1594.09 1520.01 Q1591.03 1515.41 1591.03 1506.68 Q1591.03 1497.93 1594.09 1493.35 Q1597.16 1488.74 1602.97 1488.74 Z\" fill=\"#000000\" fill-rule=\"evenodd\" fill-opacity=\"1\" /><path clip-path=\"url(#clip950)\" d=\"M1623.14 1518.05 L1628.02 1518.05 L1628.02 1523.93 L1623.14 1523.93 L1623.14 1518.05 Z\" fill=\"#000000\" fill-rule=\"evenodd\" fill-opacity=\"1\" /><path clip-path=\"url(#clip950)\" d=\"M1648.21 1492.44 Q1644.59 1492.44 1642.77 1496.01 Q1640.96 1499.55 1640.96 1506.68 Q1640.96 1513.79 1642.77 1517.35 Q1644.59 1520.89 1648.21 1520.89 Q1651.84 1520.89 1653.65 1517.35 Q1655.47 1513.79 1655.47 1506.68 Q1655.47 1499.55 1653.65 1496.01 Q1651.84 1492.44 1648.21 1492.44 M1648.21 1488.74 Q1654.02 1488.74 1657.07 1493.35 Q1660.15 1497.93 1660.15 1506.68 Q1660.15 1515.41 1657.07 1520.01 Q1654.02 1524.6 1648.21 1524.6 Q1642.4 1524.6 1639.32 1520.01 Q1636.26 1515.41 1636.26 1506.68 Q1636.26 1497.93 1639.32 1493.35 Q1642.4 1488.74 1648.21 1488.74 Z\" fill=\"#000000\" fill-rule=\"evenodd\" fill-opacity=\"1\" /><path clip-path=\"url(#clip950)\" d=\"M1678.37 1492.44 Q1674.76 1492.44 1672.93 1496.01 Q1671.12 1499.55 1671.12 1506.68 Q1671.12 1513.79 1672.93 1517.35 Q1674.76 1520.89 1678.37 1520.89 Q1682 1520.89 1683.81 1517.35 Q1685.64 1513.79 1685.64 1506.68 Q1685.64 1499.55 1683.81 1496.01 Q1682 1492.44 1678.37 1492.44 M1678.37 1488.74 Q1684.18 1488.74 1687.23 1493.35 Q1690.31 1497.93 1690.31 1506.68 Q1690.31 1515.41 1687.23 1520.01 Q1684.18 1524.6 1678.37 1524.6 Q1672.56 1524.6 1669.48 1520.01 Q1666.42 1515.41 1666.42 1506.68 Q1666.42 1497.93 1669.48 1493.35 Q1672.56 1488.74 1678.37 1488.74 Z\" fill=\"#000000\" fill-rule=\"evenodd\" fill-opacity=\"1\" /><path clip-path=\"url(#clip950)\" d=\"M1790 1432.29 Q1786.39 1432.29 1784.56 1435.86 Q1782.75 1439.4 1782.75 1446.53 Q1782.75 1453.63 1784.56 1457.2 Q1786.39 1460.74 1790 1460.74 Q1793.63 1460.74 1795.44 1457.2 Q1797.27 1453.63 1797.27 1446.53 Q1797.27 1439.4 1795.44 1435.86 Q1793.63 1432.29 1790 1432.29 M1790 1428.59 Q1795.81 1428.59 1798.87 1433.19 Q1801.94 1437.78 1801.94 1446.53 Q1801.94 1455.25 1798.87 1459.86 Q1795.81 1464.44 1790 1464.44 Q1784.19 1464.44 1781.11 1459.86 Q1778.06 1455.25 1778.06 1446.53 Q1778.06 1437.78 1781.11 1433.19 Q1784.19 1428.59 1790 1428.59 Z\" fill=\"#000000\" fill-rule=\"evenodd\" fill-opacity=\"1\" /><path clip-path=\"url(#clip950)\" d=\"M1810.16 1457.89 L1815.05 1457.89 L1815.05 1463.77 L1810.16 1463.77 L1810.16 1457.89 Z\" fill=\"#000000\" fill-rule=\"evenodd\" fill-opacity=\"1\" /><path clip-path=\"url(#clip950)\" d=\"M1829.26 1459.84 L1845.58 1459.84 L1845.58 1463.77 L1823.63 1463.77 L1823.63 1459.84 Q1826.3 1457.08 1830.88 1452.45 Q1835.49 1447.8 1836.67 1446.46 Q1838.91 1443.93 1839.79 1442.2 Q1840.69 1440.44 1840.69 1438.75 Q1840.69 1435.99 1838.75 1434.26 Q1836.83 1432.52 1833.73 1432.52 Q1831.53 1432.52 1829.07 1433.29 Q1826.64 1434.05 1823.87 1435.6 L1823.87 1430.88 Q1826.69 1429.74 1829.14 1429.17 Q1831.6 1428.59 1833.63 1428.59 Q1839 1428.59 1842.2 1431.27 Q1845.39 1433.96 1845.39 1438.45 Q1845.39 1440.58 1844.58 1442.5 Q1843.8 1444.4 1841.69 1446.99 Q1841.11 1447.66 1838.01 1450.88 Q1834.91 1454.07 1829.26 1459.84 Z\" fill=\"#000000\" fill-rule=\"evenodd\" fill-opacity=\"1\" /><path clip-path=\"url(#clip950)\" d=\"M1855.44 1429.21 L1873.8 1429.21 L1873.8 1433.15 L1859.72 1433.15 L1859.72 1441.62 Q1860.74 1441.27 1861.76 1441.11 Q1862.78 1440.92 1863.8 1440.92 Q1869.58 1440.92 1872.96 1444.1 Q1876.34 1447.27 1876.34 1452.68 Q1876.34 1458.26 1872.87 1461.36 Q1869.4 1464.44 1863.08 1464.44 Q1860.9 1464.44 1858.63 1464.07 Q1856.39 1463.7 1853.98 1462.96 L1853.98 1458.26 Q1856.06 1459.4 1858.29 1459.95 Q1860.51 1460.51 1862.99 1460.51 Q1866.99 1460.51 1869.33 1458.4 Q1871.67 1456.29 1871.67 1452.68 Q1871.67 1449.07 1869.33 1446.97 Q1866.99 1444.86 1862.99 1444.86 Q1861.11 1444.86 1859.24 1445.28 Q1857.38 1445.69 1855.44 1446.57 L1855.44 1429.21 Z\" fill=\"#000000\" fill-rule=\"evenodd\" fill-opacity=\"1\" /><path clip-path=\"url(#clip950)\" d=\"M1977.02 1372.14 Q1973.41 1372.14 1971.59 1375.7 Q1969.78 1379.24 1969.78 1386.37 Q1969.78 1393.48 1971.59 1397.04 Q1973.41 1400.59 1977.02 1400.59 Q1980.66 1400.59 1982.46 1397.04 Q1984.29 1393.48 1984.29 1386.37 Q1984.29 1379.24 1982.46 1375.7 Q1980.66 1372.14 1977.02 1372.14 M1977.02 1368.43 Q1982.83 1368.43 1985.89 1373.04 Q1988.97 1377.62 1988.97 1386.37 Q1988.97 1395.1 1985.89 1399.71 Q1982.83 1404.29 1977.02 1404.29 Q1971.21 1404.29 1968.14 1399.71 Q1965.08 1395.1 1965.08 1386.37 Q1965.08 1377.62 1968.14 1373.04 Q1971.21 1368.43 1977.02 1368.43 Z\" fill=\"#000000\" fill-rule=\"evenodd\" fill-opacity=\"1\" /><path clip-path=\"url(#clip950)\" d=\"M1997.19 1397.74 L2002.07 1397.74 L2002.07 1403.62 L1997.19 1403.62 L1997.19 1397.74 Z\" fill=\"#000000\" fill-rule=\"evenodd\" fill-opacity=\"1\" /><path clip-path=\"url(#clip950)\" d=\"M2012.3 1369.06 L2030.66 1369.06 L2030.66 1372.99 L2016.58 1372.99 L2016.58 1381.46 Q2017.6 1381.12 2018.62 1380.96 Q2019.64 1380.77 2020.66 1380.77 Q2026.45 1380.77 2029.83 1383.94 Q2033.21 1387.11 2033.21 1392.53 Q2033.21 1398.11 2029.73 1401.21 Q2026.26 1404.29 2019.94 1404.29 Q2017.77 1404.29 2015.5 1403.92 Q2013.25 1403.55 2010.84 1402.81 L2010.84 1398.11 Q2012.93 1399.24 2015.15 1399.8 Q2017.37 1400.35 2019.85 1400.35 Q2023.85 1400.35 2026.19 1398.25 Q2028.53 1396.14 2028.53 1392.53 Q2028.53 1388.92 2026.19 1386.81 Q2023.85 1384.71 2019.85 1384.71 Q2017.97 1384.71 2016.1 1385.12 Q2014.25 1385.54 2012.3 1386.42 L2012.3 1369.06 Z\" fill=\"#000000\" fill-rule=\"evenodd\" fill-opacity=\"1\" /><path clip-path=\"url(#clip950)\" d=\"M2052.42 1372.14 Q2048.81 1372.14 2046.98 1375.7 Q2045.17 1379.24 2045.17 1386.37 Q2045.17 1393.48 2046.98 1397.04 Q2048.81 1400.59 2052.42 1400.59 Q2056.05 1400.59 2057.86 1397.04 Q2059.69 1393.48 2059.69 1386.37 Q2059.69 1379.24 2057.86 1375.7 Q2056.05 1372.14 2052.42 1372.14 M2052.42 1368.43 Q2058.23 1368.43 2061.28 1373.04 Q2064.36 1377.62 2064.36 1386.37 Q2064.36 1395.1 2061.28 1399.71 Q2058.23 1404.29 2052.42 1404.29 Q2046.61 1404.29 2043.53 1399.71 Q2040.47 1395.1 2040.47 1386.37 Q2040.47 1377.62 2043.53 1373.04 Q2046.61 1368.43 2052.42 1368.43 Z\" fill=\"#000000\" fill-rule=\"evenodd\" fill-opacity=\"1\" /><path clip-path=\"url(#clip950)\" d=\"M2164.05 1311.98 Q2160.44 1311.98 2158.61 1315.55 Q2156.8 1319.09 2156.8 1326.22 Q2156.8 1333.32 2158.61 1336.89 Q2160.44 1340.43 2164.05 1340.43 Q2167.68 1340.43 2169.49 1336.89 Q2171.32 1333.32 2171.32 1326.22 Q2171.32 1319.09 2169.49 1315.55 Q2167.68 1311.98 2164.05 1311.98 M2164.05 1308.28 Q2169.86 1308.28 2172.92 1312.88 Q2175.99 1317.47 2175.99 1326.22 Q2175.99 1334.94 2172.92 1339.55 Q2169.86 1344.13 2164.05 1344.13 Q2158.24 1344.13 2155.16 1339.55 Q2152.11 1334.94 2152.11 1326.22 Q2152.11 1317.47 2155.16 1312.88 Q2158.24 1308.28 2164.05 1308.28 Z\" fill=\"#000000\" fill-rule=\"evenodd\" fill-opacity=\"1\" /><path clip-path=\"url(#clip950)\" d=\"M2184.21 1337.58 L2189.1 1337.58 L2189.1 1343.46 L2184.21 1343.46 L2184.21 1337.58 Z\" fill=\"#000000\" fill-rule=\"evenodd\" fill-opacity=\"1\" /><path clip-path=\"url(#clip950)\" d=\"M2198.1 1308.9 L2220.32 1308.9 L2220.32 1310.89 L2207.78 1343.46 L2202.89 1343.46 L2214.7 1312.84 L2198.1 1312.84 L2198.1 1308.9 Z\" fill=\"#000000\" fill-rule=\"evenodd\" fill-opacity=\"1\" /><path clip-path=\"url(#clip950)\" d=\"M2229.49 1308.9 L2247.85 1308.9 L2247.85 1312.84 L2233.77 1312.84 L2233.77 1321.31 Q2234.79 1320.96 2235.81 1320.8 Q2236.83 1320.62 2237.85 1320.62 Q2243.63 1320.62 2247.01 1323.79 Q2250.39 1326.96 2250.39 1332.38 Q2250.39 1337.95 2246.92 1341.06 Q2243.45 1344.13 2237.13 1344.13 Q2234.95 1344.13 2232.68 1343.76 Q2230.44 1343.39 2228.03 1342.65 L2228.03 1337.95 Q2230.11 1339.09 2232.34 1339.64 Q2234.56 1340.2 2237.04 1340.2 Q2241.04 1340.2 2243.38 1338.09 Q2245.72 1335.99 2245.72 1332.38 Q2245.72 1328.76 2243.38 1326.66 Q2241.04 1324.55 2237.04 1324.55 Q2235.16 1324.55 2233.29 1324.97 Q2231.43 1325.38 2229.49 1326.26 L2229.49 1308.9 Z\" fill=\"#000000\" fill-rule=\"evenodd\" fill-opacity=\"1\" /><path clip-path=\"url(#clip950)\" d=\"M2339.8 1279.37 L2347.44 1279.37 L2347.44 1253.01 L2339.13 1254.67 L2339.13 1250.42 L2347.39 1248.75 L2352.07 1248.75 L2352.07 1279.37 L2359.71 1279.37 L2359.71 1283.31 L2339.8 1283.31 L2339.8 1279.37 Z\" fill=\"#000000\" fill-rule=\"evenodd\" fill-opacity=\"1\" /><path clip-path=\"url(#clip950)\" d=\"M2369.15 1277.43 L2374.04 1277.43 L2374.04 1283.31 L2369.15 1283.31 L2369.15 1277.43 Z\" fill=\"#000000\" fill-rule=\"evenodd\" fill-opacity=\"1\" /><path clip-path=\"url(#clip950)\" d=\"M2394.22 1251.83 Q2390.61 1251.83 2388.78 1255.39 Q2386.98 1258.93 2386.98 1266.06 Q2386.98 1273.17 2388.78 1276.73 Q2390.61 1280.28 2394.22 1280.28 Q2397.86 1280.28 2399.66 1276.73 Q2401.49 1273.17 2401.49 1266.06 Q2401.49 1258.93 2399.66 1255.39 Q2397.86 1251.83 2394.22 1251.83 M2394.22 1248.12 Q2400.03 1248.12 2403.09 1252.73 Q2406.17 1257.31 2406.17 1266.06 Q2406.17 1274.79 2403.09 1279.4 Q2400.03 1283.98 2394.22 1283.98 Q2388.41 1283.98 2385.33 1279.4 Q2382.28 1274.79 2382.28 1266.06 Q2382.28 1257.31 2385.33 1252.73 Q2388.41 1248.12 2394.22 1248.12 Z\" fill=\"#000000\" fill-rule=\"evenodd\" fill-opacity=\"1\" /><path clip-path=\"url(#clip950)\" d=\"M2424.39 1251.83 Q2420.77 1251.83 2418.95 1255.39 Q2417.14 1258.93 2417.14 1266.06 Q2417.14 1273.17 2418.95 1276.73 Q2420.77 1280.28 2424.39 1280.28 Q2428.02 1280.28 2429.83 1276.73 Q2431.65 1273.17 2431.65 1266.06 Q2431.65 1258.93 2429.83 1255.39 Q2428.02 1251.83 2424.39 1251.83 M2424.39 1248.12 Q2430.2 1248.12 2433.25 1252.73 Q2436.33 1257.31 2436.33 1266.06 Q2436.33 1274.79 2433.25 1279.4 Q2430.2 1283.98 2424.39 1283.98 Q2418.58 1283.98 2415.5 1279.4 Q2412.44 1274.79 2412.44 1266.06 Q2412.44 1257.31 2415.5 1252.73 Q2418.58 1248.12 2424.39 1248.12 Z\" fill=\"#000000\" fill-rule=\"evenodd\" fill-opacity=\"1\" /><polyline clip-path=\"url(#clip952)\" style=\"stroke:#000000; stroke-linecap:butt; stroke-linejoin:round; stroke-width:2; stroke-opacity:0.1; fill:none\" points=\"\n",
       "  186.274,1370.32 979.261,1115.27 \n",
       "  \"/>\n",
       "<polyline clip-path=\"url(#clip952)\" style=\"stroke:#000000; stroke-linecap:butt; stroke-linejoin:round; stroke-width:2; stroke-opacity:0.1; fill:none\" points=\"\n",
       "  979.261,1115.27 2352.76,1200.29 \n",
       "  \"/>\n",
       "<polyline clip-path=\"url(#clip952)\" style=\"stroke:#000000; stroke-linecap:butt; stroke-linejoin:round; stroke-width:2; stroke-opacity:0.1; fill:none\" points=\"\n",
       "  186.274,1111.09 979.261,856.039 \n",
       "  \"/>\n",
       "<polyline clip-path=\"url(#clip952)\" style=\"stroke:#000000; stroke-linecap:butt; stroke-linejoin:round; stroke-width:2; stroke-opacity:0.1; fill:none\" points=\"\n",
       "  979.261,856.039 2352.76,941.057 \n",
       "  \"/>\n",
       "<polyline clip-path=\"url(#clip952)\" style=\"stroke:#000000; stroke-linecap:butt; stroke-linejoin:round; stroke-width:2; stroke-opacity:0.1; fill:none\" points=\"\n",
       "  186.274,851.864 979.261,596.81 \n",
       "  \"/>\n",
       "<polyline clip-path=\"url(#clip952)\" style=\"stroke:#000000; stroke-linecap:butt; stroke-linejoin:round; stroke-width:2; stroke-opacity:0.1; fill:none\" points=\"\n",
       "  979.261,596.81 2352.76,681.828 \n",
       "  \"/>\n",
       "<polyline clip-path=\"url(#clip952)\" style=\"stroke:#000000; stroke-linecap:butt; stroke-linejoin:round; stroke-width:2; stroke-opacity:0.1; fill:none\" points=\"\n",
       "  186.274,592.635 979.261,337.581 \n",
       "  \"/>\n",
       "<polyline clip-path=\"url(#clip952)\" style=\"stroke:#000000; stroke-linecap:butt; stroke-linejoin:round; stroke-width:2; stroke-opacity:0.1; fill:none\" points=\"\n",
       "  979.261,337.581 2352.76,422.599 \n",
       "  \"/>\n",
       "<polyline clip-path=\"url(#clip952)\" style=\"stroke:#000000; stroke-linecap:butt; stroke-linejoin:round; stroke-width:2; stroke-opacity:0.1; fill:none\" points=\"\n",
       "  186.274,333.406 979.261,78.3516 \n",
       "  \"/>\n",
       "<polyline clip-path=\"url(#clip952)\" style=\"stroke:#000000; stroke-linecap:butt; stroke-linejoin:round; stroke-width:2; stroke-opacity:0.1; fill:none\" points=\"\n",
       "  979.261,78.3516 2352.76,163.37 \n",
       "  \"/>\n",
       "<polyline clip-path=\"url(#clip950)\" style=\"stroke:#000000; stroke-linecap:butt; stroke-linejoin:round; stroke-width:4; stroke-opacity:1; fill:none\" points=\"\n",
       "  186.274,1401.43 186.274,302.298 \n",
       "  \"/>\n",
       "<polyline clip-path=\"url(#clip950)\" style=\"stroke:#000000; stroke-linecap:butt; stroke-linejoin:round; stroke-width:4; stroke-opacity:1; fill:none\" points=\"\n",
       "  186.274,1370.32 195.79,1367.26 \n",
       "  \"/>\n",
       "<polyline clip-path=\"url(#clip950)\" style=\"stroke:#000000; stroke-linecap:butt; stroke-linejoin:round; stroke-width:4; stroke-opacity:1; fill:none\" points=\"\n",
       "  186.274,1111.09 195.79,1108.03 \n",
       "  \"/>\n",
       "<polyline clip-path=\"url(#clip950)\" style=\"stroke:#000000; stroke-linecap:butt; stroke-linejoin:round; stroke-width:4; stroke-opacity:1; fill:none\" points=\"\n",
       "  186.274,851.864 195.79,848.803 \n",
       "  \"/>\n",
       "<polyline clip-path=\"url(#clip950)\" style=\"stroke:#000000; stroke-linecap:butt; stroke-linejoin:round; stroke-width:4; stroke-opacity:1; fill:none\" points=\"\n",
       "  186.274,592.635 195.79,589.574 \n",
       "  \"/>\n",
       "<polyline clip-path=\"url(#clip950)\" style=\"stroke:#000000; stroke-linecap:butt; stroke-linejoin:round; stroke-width:4; stroke-opacity:1; fill:none\" points=\"\n",
       "  186.274,333.406 195.79,330.345 \n",
       "  \"/>\n",
       "<path clip-path=\"url(#clip950)\" d=\"M70.1365 1356.12 Q66.5254 1356.12 64.6967 1359.69 Q62.8912 1363.23 62.8912 1370.36 Q62.8912 1377.46 64.6967 1381.03 Q66.5254 1384.57 70.1365 1384.57 Q73.7707 1384.57 75.5763 1381.03 Q77.405 1377.46 77.405 1370.36 Q77.405 1363.23 75.5763 1359.69 Q73.7707 1356.12 70.1365 1356.12 M70.1365 1352.42 Q75.9467 1352.42 79.0022 1357.02 Q82.0809 1361.61 82.0809 1370.36 Q82.0809 1379.08 79.0022 1383.69 Q75.9467 1388.27 70.1365 1388.27 Q64.3264 1388.27 61.2477 1383.69 Q58.1921 1379.08 58.1921 1370.36 Q58.1921 1361.61 61.2477 1357.02 Q64.3264 1352.42 70.1365 1352.42 Z\" fill=\"#000000\" fill-rule=\"evenodd\" fill-opacity=\"1\" /><path clip-path=\"url(#clip950)\" d=\"M90.2984 1381.72 L95.1827 1381.72 L95.1827 1387.6 L90.2984 1387.6 L90.2984 1381.72 Z\" fill=\"#000000\" fill-rule=\"evenodd\" fill-opacity=\"1\" /><path clip-path=\"url(#clip950)\" d=\"M115.368 1356.12 Q111.757 1356.12 109.928 1359.69 Q108.122 1363.23 108.122 1370.36 Q108.122 1377.46 109.928 1381.03 Q111.757 1384.57 115.368 1384.57 Q119.002 1384.57 120.808 1381.03 Q122.636 1377.46 122.636 1370.36 Q122.636 1363.23 120.808 1359.69 Q119.002 1356.12 115.368 1356.12 M115.368 1352.42 Q121.178 1352.42 124.233 1357.02 Q127.312 1361.61 127.312 1370.36 Q127.312 1379.08 124.233 1383.69 Q121.178 1388.27 115.368 1388.27 Q109.558 1388.27 106.479 1383.69 Q103.423 1379.08 103.423 1370.36 Q103.423 1361.61 106.479 1357.02 Q109.558 1352.42 115.368 1352.42 Z\" fill=\"#000000\" fill-rule=\"evenodd\" fill-opacity=\"1\" /><path clip-path=\"url(#clip950)\" d=\"M145.53 1356.12 Q141.919 1356.12 140.09 1359.69 Q138.284 1363.23 138.284 1370.36 Q138.284 1377.46 140.09 1381.03 Q141.919 1384.57 145.53 1384.57 Q149.164 1384.57 150.969 1381.03 Q152.798 1377.46 152.798 1370.36 Q152.798 1363.23 150.969 1359.69 Q149.164 1356.12 145.53 1356.12 M145.53 1352.42 Q151.34 1352.42 154.395 1357.02 Q157.474 1361.61 157.474 1370.36 Q157.474 1379.08 154.395 1383.69 Q151.34 1388.27 145.53 1388.27 Q139.719 1388.27 136.641 1383.69 Q133.585 1379.08 133.585 1370.36 Q133.585 1361.61 136.641 1357.02 Q139.719 1352.42 145.53 1352.42 Z\" fill=\"#000000\" fill-rule=\"evenodd\" fill-opacity=\"1\" /><path clip-path=\"url(#clip950)\" d=\"M71.1319 1096.89 Q67.5208 1096.89 65.6921 1100.46 Q63.8865 1104 63.8865 1111.13 Q63.8865 1118.23 65.6921 1121.8 Q67.5208 1125.34 71.1319 1125.34 Q74.7661 1125.34 76.5717 1121.8 Q78.4004 1118.23 78.4004 1111.13 Q78.4004 1104 76.5717 1100.46 Q74.7661 1096.89 71.1319 1096.89 M71.1319 1093.19 Q76.942 1093.19 79.9976 1097.79 Q83.0763 1102.38 83.0763 1111.13 Q83.0763 1119.85 79.9976 1124.46 Q76.942 1129.04 71.1319 1129.04 Q65.3217 1129.04 62.243 1124.46 Q59.1875 1119.85 59.1875 1111.13 Q59.1875 1102.38 62.243 1097.79 Q65.3217 1093.19 71.1319 1093.19 Z\" fill=\"#000000\" fill-rule=\"evenodd\" fill-opacity=\"1\" /><path clip-path=\"url(#clip950)\" d=\"M91.2938 1122.49 L96.178 1122.49 L96.178 1128.37 L91.2938 1128.37 L91.2938 1122.49 Z\" fill=\"#000000\" fill-rule=\"evenodd\" fill-opacity=\"1\" /><path clip-path=\"url(#clip950)\" d=\"M110.391 1124.44 L126.71 1124.44 L126.71 1128.37 L104.766 1128.37 L104.766 1124.44 Q107.428 1121.68 112.011 1117.05 Q116.618 1112.4 117.798 1111.06 Q120.044 1108.54 120.923 1106.8 Q121.826 1105.04 121.826 1103.35 Q121.826 1100.6 119.882 1098.86 Q117.96 1097.12 114.858 1097.12 Q112.659 1097.12 110.206 1097.89 Q107.775 1098.65 104.997 1100.2 L104.997 1095.48 Q107.821 1094.35 110.275 1093.77 Q112.729 1093.19 114.766 1093.19 Q120.136 1093.19 123.331 1095.87 Q126.525 1098.56 126.525 1103.05 Q126.525 1105.18 125.715 1107.1 Q124.928 1109 122.821 1111.59 Q122.243 1112.26 119.141 1115.48 Q116.039 1118.67 110.391 1124.44 Z\" fill=\"#000000\" fill-rule=\"evenodd\" fill-opacity=\"1\" /><path clip-path=\"url(#clip950)\" d=\"M136.571 1093.81 L154.928 1093.81 L154.928 1097.75 L140.854 1097.75 L140.854 1106.22 Q141.872 1105.87 142.891 1105.71 Q143.909 1105.53 144.928 1105.53 Q150.715 1105.53 154.094 1108.7 Q157.474 1111.87 157.474 1117.29 Q157.474 1122.86 154.002 1125.97 Q150.53 1129.04 144.21 1129.04 Q142.034 1129.04 139.766 1128.67 Q137.52 1128.3 135.113 1127.56 L135.113 1122.86 Q137.196 1124 139.419 1124.55 Q141.641 1125.11 144.118 1125.11 Q148.122 1125.11 150.46 1123 Q152.798 1120.9 152.798 1117.29 Q152.798 1113.67 150.46 1111.57 Q148.122 1109.46 144.118 1109.46 Q142.243 1109.46 140.368 1109.88 Q138.516 1110.29 136.571 1111.17 L136.571 1093.81 Z\" fill=\"#000000\" fill-rule=\"evenodd\" fill-opacity=\"1\" /><path clip-path=\"url(#clip950)\" d=\"M70.1365 837.663 Q66.5254 837.663 64.6967 841.228 Q62.8912 844.769 62.8912 851.899 Q62.8912 859.005 64.6967 862.57 Q66.5254 866.112 70.1365 866.112 Q73.7707 866.112 75.5763 862.57 Q77.405 859.005 77.405 851.899 Q77.405 844.769 75.5763 841.228 Q73.7707 837.663 70.1365 837.663 M70.1365 833.959 Q75.9467 833.959 79.0022 838.566 Q82.0809 843.149 82.0809 851.899 Q82.0809 860.626 79.0022 865.232 Q75.9467 869.815 70.1365 869.815 Q64.3264 869.815 61.2477 865.232 Q58.1921 860.626 58.1921 851.899 Q58.1921 843.149 61.2477 838.566 Q64.3264 833.959 70.1365 833.959 Z\" fill=\"#000000\" fill-rule=\"evenodd\" fill-opacity=\"1\" /><path clip-path=\"url(#clip950)\" d=\"M90.2984 863.264 L95.1827 863.264 L95.1827 869.144 L90.2984 869.144 L90.2984 863.264 Z\" fill=\"#000000\" fill-rule=\"evenodd\" fill-opacity=\"1\" /><path clip-path=\"url(#clip950)\" d=\"M105.414 834.584 L123.77 834.584 L123.77 838.519 L109.696 838.519 L109.696 846.991 Q110.715 846.644 111.734 846.482 Q112.752 846.297 113.771 846.297 Q119.558 846.297 122.937 849.468 Q126.317 852.64 126.317 858.056 Q126.317 863.635 122.845 866.737 Q119.372 869.815 113.053 869.815 Q110.877 869.815 108.609 869.445 Q106.363 869.075 103.956 868.334 L103.956 863.635 Q106.039 864.769 108.261 865.325 Q110.484 865.88 112.96 865.88 Q116.965 865.88 119.303 863.774 Q121.641 861.667 121.641 858.056 Q121.641 854.445 119.303 852.339 Q116.965 850.232 112.96 850.232 Q111.085 850.232 109.21 850.649 Q107.359 851.065 105.414 851.945 L105.414 834.584 Z\" fill=\"#000000\" fill-rule=\"evenodd\" fill-opacity=\"1\" /><path clip-path=\"url(#clip950)\" d=\"M145.53 837.663 Q141.919 837.663 140.09 841.228 Q138.284 844.769 138.284 851.899 Q138.284 859.005 140.09 862.57 Q141.919 866.112 145.53 866.112 Q149.164 866.112 150.969 862.57 Q152.798 859.005 152.798 851.899 Q152.798 844.769 150.969 841.228 Q149.164 837.663 145.53 837.663 M145.53 833.959 Q151.34 833.959 154.395 838.566 Q157.474 843.149 157.474 851.899 Q157.474 860.626 154.395 865.232 Q151.34 869.815 145.53 869.815 Q139.719 869.815 136.641 865.232 Q133.585 860.626 133.585 851.899 Q133.585 843.149 136.641 838.566 Q139.719 833.959 145.53 833.959 Z\" fill=\"#000000\" fill-rule=\"evenodd\" fill-opacity=\"1\" /><path clip-path=\"url(#clip950)\" d=\"M71.1319 578.434 Q67.5208 578.434 65.6921 581.998 Q63.8865 585.54 63.8865 592.67 Q63.8865 599.776 65.6921 603.341 Q67.5208 606.883 71.1319 606.883 Q74.7661 606.883 76.5717 603.341 Q78.4004 599.776 78.4004 592.67 Q78.4004 585.54 76.5717 581.998 Q74.7661 578.434 71.1319 578.434 M71.1319 574.73 Q76.942 574.73 79.9976 579.336 Q83.0763 583.92 83.0763 592.67 Q83.0763 601.397 79.9976 606.003 Q76.942 610.586 71.1319 610.586 Q65.3217 610.586 62.243 606.003 Q59.1875 601.397 59.1875 592.67 Q59.1875 583.92 62.243 579.336 Q65.3217 574.73 71.1319 574.73 Z\" fill=\"#000000\" fill-rule=\"evenodd\" fill-opacity=\"1\" /><path clip-path=\"url(#clip950)\" d=\"M91.2938 604.035 L96.178 604.035 L96.178 609.915 L91.2938 609.915 L91.2938 604.035 Z\" fill=\"#000000\" fill-rule=\"evenodd\" fill-opacity=\"1\" /><path clip-path=\"url(#clip950)\" d=\"M105.183 575.355 L127.405 575.355 L127.405 577.346 L114.858 609.915 L109.974 609.915 L121.78 579.29 L105.183 579.29 L105.183 575.355 Z\" fill=\"#000000\" fill-rule=\"evenodd\" fill-opacity=\"1\" /><path clip-path=\"url(#clip950)\" d=\"M136.571 575.355 L154.928 575.355 L154.928 579.29 L140.854 579.29 L140.854 587.762 Q141.872 587.415 142.891 587.253 Q143.909 587.068 144.928 587.068 Q150.715 587.068 154.094 590.239 Q157.474 593.41 157.474 598.827 Q157.474 604.406 154.002 607.508 Q150.53 610.586 144.21 610.586 Q142.034 610.586 139.766 610.216 Q137.52 609.846 135.113 609.105 L135.113 604.406 Q137.196 605.54 139.419 606.096 Q141.641 606.651 144.118 606.651 Q148.122 606.651 150.46 604.545 Q152.798 602.438 152.798 598.827 Q152.798 595.216 150.46 593.11 Q148.122 591.003 144.118 591.003 Q142.243 591.003 140.368 591.42 Q138.516 591.836 136.571 592.716 L136.571 575.355 Z\" fill=\"#000000\" fill-rule=\"evenodd\" fill-opacity=\"1\" /><path clip-path=\"url(#clip950)\" d=\"M60.9467 346.751 L68.5856 346.751 L68.5856 320.385 L60.2754 322.052 L60.2754 317.793 L68.5393 316.126 L73.2152 316.126 L73.2152 346.751 L80.854 346.751 L80.854 350.686 L60.9467 350.686 L60.9467 346.751 Z\" fill=\"#000000\" fill-rule=\"evenodd\" fill-opacity=\"1\" /><path clip-path=\"url(#clip950)\" d=\"M90.2984 344.806 L95.1827 344.806 L95.1827 350.686 L90.2984 350.686 L90.2984 344.806 Z\" fill=\"#000000\" fill-rule=\"evenodd\" fill-opacity=\"1\" /><path clip-path=\"url(#clip950)\" d=\"M115.368 319.205 Q111.757 319.205 109.928 322.769 Q108.122 326.311 108.122 333.441 Q108.122 340.547 109.928 344.112 Q111.757 347.654 115.368 347.654 Q119.002 347.654 120.808 344.112 Q122.636 340.547 122.636 333.441 Q122.636 326.311 120.808 322.769 Q119.002 319.205 115.368 319.205 M115.368 315.501 Q121.178 315.501 124.233 320.107 Q127.312 324.691 127.312 333.441 Q127.312 342.167 124.233 346.774 Q121.178 351.357 115.368 351.357 Q109.558 351.357 106.479 346.774 Q103.423 342.167 103.423 333.441 Q103.423 324.691 106.479 320.107 Q109.558 315.501 115.368 315.501 Z\" fill=\"#000000\" fill-rule=\"evenodd\" fill-opacity=\"1\" /><path clip-path=\"url(#clip950)\" d=\"M145.53 319.205 Q141.919 319.205 140.09 322.769 Q138.284 326.311 138.284 333.441 Q138.284 340.547 140.09 344.112 Q141.919 347.654 145.53 347.654 Q149.164 347.654 150.969 344.112 Q152.798 340.547 152.798 333.441 Q152.798 326.311 150.969 322.769 Q149.164 319.205 145.53 319.205 M145.53 315.501 Q151.34 315.501 154.395 320.107 Q157.474 324.691 157.474 333.441 Q157.474 342.167 154.395 346.774 Q151.34 351.357 145.53 351.357 Q139.719 351.357 136.641 346.774 Q133.585 342.167 133.585 333.441 Q133.585 324.691 136.641 320.107 Q139.719 315.501 145.53 315.501 Z\" fill=\"#000000\" fill-rule=\"evenodd\" fill-opacity=\"1\" /><circle clip-path=\"url(#clip952)\" cx=\"2291.44\" cy=\"1205.1\" r=\"25\" fill=\"#009af9\" fill-rule=\"evenodd\" fill-opacity=\"1\" stroke=\"#000000\" stroke-opacity=\"1\" stroke-width=\"3.2\"/>\n",
       "<circle clip-path=\"url(#clip952)\" cx=\"247.59\" cy=\"328.594\" r=\"25\" fill=\"#009af9\" fill-rule=\"evenodd\" fill-opacity=\"1\" stroke=\"#000000\" stroke-opacity=\"1\" stroke-width=\"3.2\"/>\n",
       "<circle clip-path=\"url(#clip952)\" cx=\"2291.44\" cy=\"168.182\" r=\"25\" fill=\"#009af9\" fill-rule=\"evenodd\" fill-opacity=\"1\" stroke=\"#000000\" stroke-opacity=\"1\" stroke-width=\"3.2\"/>\n",
       "<path clip-path=\"url(#clip950)\" d=\"\n",
       "M1987.39 198.898 L2280.54 198.898 L2280.54 95.2176 L1987.39 95.2176  Z\n",
       "  \" fill=\"#ffffff\" fill-rule=\"evenodd\" fill-opacity=\"1\"/>\n",
       "<polyline clip-path=\"url(#clip950)\" style=\"stroke:#000000; stroke-linecap:butt; stroke-linejoin:round; stroke-width:4; stroke-opacity:1; fill:none\" points=\"\n",
       "  1987.39,198.898 2280.54,198.898 2280.54,95.2176 1987.39,95.2176 1987.39,198.898 \n",
       "  \"/>\n",
       "<circle clip-path=\"url(#clip950)\" cx=\"2083.68\" cy=\"147.058\" r=\"23\" fill=\"#009af9\" fill-rule=\"evenodd\" fill-opacity=\"1\" stroke=\"#000000\" stroke-opacity=\"1\" stroke-width=\"2.92571\"/>\n",
       "<path clip-path=\"url(#clip950)\" d=\"M2193.81 166.745 Q2192 171.375 2190.29 172.787 Q2188.58 174.199 2185.71 174.199 L2182.3 174.199 L2182.3 170.634 L2184.8 170.634 Q2186.56 170.634 2187.53 169.8 Q2188.51 168.967 2189.69 165.865 L2190.45 163.921 L2179.97 138.412 L2184.48 138.412 L2192.58 158.689 L2200.68 138.412 L2205.2 138.412 L2193.81 166.745 Z\" fill=\"#000000\" fill-rule=\"evenodd\" fill-opacity=\"1\" /><path clip-path=\"url(#clip950)\" d=\"M2212.49 160.402 L2220.13 160.402 L2220.13 134.037 L2211.82 135.703 L2211.82 131.444 L2220.08 129.778 L2224.76 129.778 L2224.76 160.402 L2232.4 160.402 L2232.4 164.338 L2212.49 164.338 L2212.49 160.402 Z\" fill=\"#000000\" fill-rule=\"evenodd\" fill-opacity=\"1\" /></svg>\n"
      ]
     },
     "metadata": {},
     "output_type": "display_data"
    }
   ],
   "source": [
    "plot3d = plot(points[1,:],points[2,:], points[3,:],\n",
    "     seriestype=:scatter, markersize = 7)\n",
    "display(plot3d)\n",
    "plot(plot3d,)"
   ]
  },
  {
   "cell_type": "code",
   "execution_count": null,
   "id": "542f12ca",
   "metadata": {},
   "outputs": [],
   "source": []
  }
 ],
 "metadata": {
  "kernelspec": {
   "display_name": "Julia 1.7.2",
   "language": "julia",
   "name": "julia-1.7"
  },
  "language_info": {
   "file_extension": ".jl",
   "mimetype": "application/julia",
   "name": "julia",
   "version": "1.7.2"
  }
 },
 "nbformat": 4,
 "nbformat_minor": 5
}
